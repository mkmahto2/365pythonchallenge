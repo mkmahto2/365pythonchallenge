{
 "cells": [
  {
   "cell_type": "markdown",
   "metadata": {},
   "source": [
    "# Python"
   ]
  },
  {
   "cell_type": "markdown",
   "metadata": {},
   "source": []
  },
  {
   "cell_type": "markdown",
   "metadata": {},
   "source": [
    "Pyhton is a popular programming language\n",
    "Python can be used on a server to create web application"
   ]
  },
  {
   "cell_type": "code",
   "execution_count": null,
   "metadata": {},
   "outputs": [],
   "source": [
    "#example \n",
    "print(\" hello \")\n"
   ]
  },
  {
   "cell_type": "markdown",
   "metadata": {},
   "source": [
    "# Python Introduction\n",
    "\n",
    "## What is Python?\n",
    "\n",
    "Python is a popular language , nit was created by guido van Rossum, and released in 1991.\n",
    "\n",
    "It is used for:\n",
    "- web development (server side)\n",
    "- software development ,\n",
    "- Mathematics \n",
    "- system scripting \n",
    "\n",
    "## what can python do?\n",
    "- Python can be used on a server to create web appllicatiion.\n",
    "\n",
    "- Pyhton can be used alognside software to create workkflows.\n",
    "- Python can connect to the database , It can aslo read and modify files.\n",
    "- Pyhton can be used to hamndle big data and perform complex mathematics.\n",
    "\n",
    "- Python can be used for rapid prototyping or , for production-ready software development.\n",
    "\n",
    "\n",
    "\n",
    "## Why Python?\n",
    "- Python works on different platforms (Windows, Mac, Linux, Raspberry Pi, etc).\n",
    "- Python has a simple syntax similar to the English language.\n",
    "- Python has syntax that allows developers to write programs with fewer lines than some other programming languages.\n",
    "- Python runs on an interpreter system, meaning that code can be executed as soon as it is written. This means that prototyping can be very quick.\n",
    "- Python can be treated in a procedural way, an object-oriented way or a functional way\n",
    "\n",
    "## Python Syntax compared to other programming languages\n",
    "- Python was designed for readability, and has some similarities to the English language with influence from mathematics.\n",
    "- Python uses new lines to complete a command, as opposed to other programming languages which often use semicolons or parentheses.\n",
    "- Python relies on indentation, using whitespace, to define scope; such as the scope of loops, functions and classes. Other programming languages often use curly-brackets for this purpose."
   ]
  },
  {
   "cell_type": "markdown",
   "metadata": {},
   "source": [
    "## Python Indentation\n",
    "Indentation refers to the spaces at the beginning of a code line.\n",
    "\n",
    "Where in other programming languages the indentation in code is for readability only, the indentation in Python is very important.\n",
    "\n",
    "Python uses indentation to indicate a block of code."
   ]
  },
  {
   "cell_type": "code",
   "execution_count": 1,
   "metadata": {},
   "outputs": [
    {
     "name": "stdout",
     "output_type": "stream",
     "text": [
      "Five is greater than two!\n"
     ]
    }
   ],
   "source": [
    "if 5 > 2:\n",
    "  print(\"Five is greater than two!\")"
   ]
  },
  {
   "cell_type": "markdown",
   "metadata": {},
   "source": [
    "## Python Variables\n",
    "In Python, variables are created when you assign a value to it:\n",
    "\n",
    "Python has no command for declaring a variable."
   ]
  },
  {
   "cell_type": "code",
   "execution_count": null,
   "metadata": {},
   "outputs": [],
   "source": [
    "x = 5\n",
    "y = \"Hello, World!\""
   ]
  },
  {
   "cell_type": "markdown",
   "metadata": {},
   "source": [
    "## Comments\n",
    "Python has commenting capability for the purpose of in-code documentation.\n",
    "\n",
    "Comments start with a #, and Python will render the rest of the line as a comment:\n",
    "\n",
    "- Comments can be used to explain Python code.\n",
    "\n",
    "- Comments can be used to make the code more readable.\n",
    "\n",
    "- Comments can be used to prevent execution when testing code.\n",
    "\n",
    "## Creating a Comment\n",
    "Comments starts with a #, and Python will ignore them:"
   ]
  },
  {
   "cell_type": "code",
   "execution_count": null,
   "metadata": {},
   "outputs": [],
   "source": [
    "#print(\"Hello, World!\")\n",
    "print(\"Cheers, Mate!\")"
   ]
  },
  {
   "cell_type": "markdown",
   "metadata": {},
   "source": [
    "## Multi Line Comments\n",
    "Python does not really have a syntax for multi line comments.\n",
    "\n",
    "To add a multiline comment you could insert a # for each line:\n",
    "~~~\n",
    "Example\n",
    "#This is a comment\n",
    "#written in\n",
    "#more than just one line\n",
    "print(\"Hello, World!\")\n",
    "~~~"
   ]
  },
  {
   "cell_type": "markdown",
   "metadata": {},
   "source": [
    "Since Python will ignore string literals that are not assigned to a variable, you can add a multiline string (triple quotes) in your code, and place your comment inside it:\n",
    "\n",
    "~~~\n",
    "\"\"\"\n",
    "This is a comment\n",
    "written in\n",
    "more than just one line\n",
    "\"\"\"\n",
    "print(\"Hello, World!\")\n",
    "\n",
    "~~~"
   ]
  },
  {
   "cell_type": "markdown",
   "metadata": {},
   "source": [
    "# Python Variables\n",
    "Variables are contains for storing values.\n",
    "\n",
    "\n",
    "## creating Variables \n",
    "\n",
    "Python ha no command for declaring a variable.\n",
    "A variable is created the moment you first assign a value to it.\n"
   ]
  },
  {
   "cell_type": "code",
   "execution_count": null,
   "metadata": {},
   "outputs": [],
   "source": []
  },
  {
   "cell_type": "code",
   "execution_count": 1,
   "metadata": {},
   "outputs": [
    {
     "name": "stdout",
     "output_type": "stream",
     "text": [
      "Sally \n"
     ]
    },
    {
     "data": {
      "text/plain": [
       "str"
      ]
     },
     "execution_count": 1,
     "metadata": {},
     "output_type": "execute_result"
    }
   ],
   "source": [
    "# example \n",
    "\n",
    "# variable\n",
    "x = \"Sally \" # x is now string type\n",
    "\n",
    "print(x)\n",
    "type(x)"
   ]
  },
  {
   "cell_type": "markdown",
   "metadata": {},
   "source": [
    "## casting \n",
    "if you want to specify the data type of a variable , this can be donw with casting\n"
   ]
  },
  {
   "cell_type": "code",
   "execution_count": null,
   "metadata": {},
   "outputs": [],
   "source": [
    "x = str(3) # x will be '3'\n",
    "y = int(3) # x will be 3\n",
    "z = float(3) # will be 3.0"
   ]
  },
  {
   "cell_type": "markdown",
   "metadata": {},
   "source": [
    "## Single or Double Quotes?\n",
    "String variables can be declared either by using single or double quotes:\n",
    "\n",
    "~~~\n",
    "\n",
    "x = \"John\"\n",
    "# is the same as\n",
    "x = 'John'\n",
    "~~~"
   ]
  },
  {
   "cell_type": "markdown",
   "metadata": {},
   "source": [
    "## Case-Sensitive\n",
    "Variable names are case-sensitive.\n",
    "~~~\n",
    "Example\n",
    "This will create two variables:\n",
    "\n",
    "a = 4\n",
    "A = \"Sally\"\n",
    "#A will not overwrite a\n",
    "\n",
    "~~~\n"
   ]
  },
  {
   "cell_type": "markdown",
   "metadata": {},
   "source": [
    "## Variable Names\n",
    "- A variable can have a short name (like x and y) or a more descriptive name (age, carname, total_volume). Rules for Python variables:\n",
    "- A variable name must start with a letter or the underscore character\n",
    "- A variable name cannot start with a number\n",
    "- A variable name can only contain alpha-numeric characters and underscores (A-z, 0-9, and _ )\n",
    "- Variable names are case-sensitive (age, Age and AGE are three different variables)"
   ]
  },
  {
   "cell_type": "markdown",
   "metadata": {},
   "source": [
    "~~~ Example\n",
    "Legal variable names:\n",
    "\n",
    "myvar = \"John\"\n",
    "my_var = \"John\"\n",
    "_my_var = \"John\"\n",
    "myVar = \"John\"\n",
    "MYVAR = \"John\"\n",
    "myvar2 = \"John\"\n",
    "\n",
    "~~~\n"
   ]
  },
  {
   "cell_type": "markdown",
   "metadata": {},
   "source": [
    "## Multi Words Variable Names\n",
    "Variable names with more than one word can be difficult to read.\n",
    "\n",
    "There are several techniques you can use to make them more readable:\n",
    "\n",
    "## Camel Case\n",
    "Each word, except the first, starts with a capital letter:\n",
    "~~~\n",
    "myVariableName = \"John\"\n",
    "~~~\n",
    "\n",
    "Pascal Case\n",
    "Each word starts with a capital letter:\n",
    "~~~\n",
    "MyVariableName = \"John\"\n",
    "\n",
    "~~~\n",
    "Snake Case\n",
    "Each word is separated by an underscore character:\n",
    "~~~\n",
    "my_variable_name = \"John\"\n",
    "\n",
    "~~~"
   ]
  },
  {
   "cell_type": "markdown",
   "metadata": {},
   "source": [
    "## Python Variables - Assign Multiple Values\n",
    "\n",
    "Many values to multiple variiables\n",
    "\n",
    "python allows to assign values to multiple variables in one line.\n",
    "\n"
   ]
  },
  {
   "cell_type": "code",
   "execution_count": 2,
   "metadata": {},
   "outputs": [
    {
     "name": "stdout",
     "output_type": "stream",
     "text": [
      "mango\n",
      "orange\n",
      "banana\n"
     ]
    }
   ],
   "source": [
    "x, y , z = \"mango\", \"orange\", \"banana\"\n",
    "print(x)\n",
    "print(y)\n",
    "print(z)"
   ]
  },
  {
   "cell_type": "markdown",
   "metadata": {},
   "source": [
    "## One Value to Multiple Variables\n",
    "And you can assign the same value to multiple variables in one line:"
   ]
  },
  {
   "cell_type": "code",
   "execution_count": 3,
   "metadata": {},
   "outputs": [
    {
     "name": "stdout",
     "output_type": "stream",
     "text": [
      "mangoes\n",
      "mangoes\n",
      "mangoes\n"
     ]
    }
   ],
   "source": [
    "x = y = z = \"mangoes\"\n",
    "\n",
    "print(x)\n",
    "print(y)\n",
    "print(z)"
   ]
  },
  {
   "cell_type": "markdown",
   "metadata": {},
   "source": [
    "## Unpack a Collection\n",
    "If you have a collection of values in a list, tuple etc. Python allows you to extract the values into variables. This is called unpacking."
   ]
  },
  {
   "cell_type": "code",
   "execution_count": 4,
   "metadata": {},
   "outputs": [
    {
     "name": "stdout",
     "output_type": "stream",
     "text": [
      "apple\n",
      "mango\n",
      "banana\n"
     ]
    }
   ],
   "source": [
    "fruits = [\"apple\",\"mango\",\"banana\"]\n",
    "# value assign in the list \n",
    "x,y,z = fruits # unpacking of varibale in list into separate variable likely x, y , z\n",
    "\n",
    "\n",
    "print(x)\n",
    "print(y)\n",
    "print(z)\n"
   ]
  },
  {
   "cell_type": "markdown",
   "metadata": {},
   "source": [
    "## Output Variables\n",
    "The Python print() function is often used to output variables.\n",
    "~~~\n",
    "Example\n",
    "x = \"Python is awesome\"\n",
    "print(x)\n",
    "In the print() function, you output multiple variables, separated by a comma:\n",
    "~~~"
   ]
  },
  {
   "cell_type": "markdown",
   "metadata": {},
   "source": [
    "In the print() function, you output multiple variables, separated by a comma:\n",
    "~~~~\n",
    "Example\n",
    "x = \"Python\"\n",
    "y = \"is\"\n",
    "z = \"awesome\"\n",
    "print(x, y, z)\n",
    "\n",
    "~~~~"
   ]
  },
  {
   "cell_type": "markdown",
   "metadata": {},
   "source": [
    "You can also use the + operator to output multiple variables:\n",
    "~~~\n",
    "Example\n",
    "x = \"Python \"\n",
    "y = \"is \"\n",
    "z = \"awesome\"\n",
    "print(x + y + z)\n",
    "\n",
    "~~~"
   ]
  }
 ],
 "metadata": {
  "kernelspec": {
   "display_name": "Python 3.10.5 64-bit",
   "language": "python",
   "name": "python3"
  },
  "language_info": {
   "codemirror_mode": {
    "name": "ipython",
    "version": 3
   },
   "file_extension": ".py",
   "mimetype": "text/x-python",
   "name": "python",
   "nbconvert_exporter": "python",
   "pygments_lexer": "ipython3",
   "version": "3.10.5"
  },
  "orig_nbformat": 4,
  "vscode": {
   "interpreter": {
    "hash": "e588b21c915ce5cbf096a3711238051717c4744d5ae766f81ffc02159c1f97a9"
   }
  }
 },
 "nbformat": 4,
 "nbformat_minor": 2
}

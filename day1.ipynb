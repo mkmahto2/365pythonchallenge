{
 "cells": [
  {
   "cell_type": "markdown",
   "metadata": {},
   "source": [
    "# Python Programming Examples\n"
   ]
  },
  {
   "cell_type": "markdown",
   "metadata": {},
   "source": []
  },
  {
   "cell_type": "markdown",
   "metadata": {},
   "source": [
    "1. Python program to add two numbers\n",
    "2. Maximum of two numbers in Python\n",
    "3. Python Program for factorial of a number\n",
    "4. Python Program for simple interest\n",
    "5. Python Program for compound interest\n",
    "6. Python Program to check Armstrong Number\n",
    "7. Python Program for Program to find area of a circle\n",
    "8. Python program to print all Prime numbers in an Interval\n",
    "9. Python program to check whether a number is Prime or not\n",
    "10. Python Program for n-th Fibonacci number\n",
    "11. Python Program for How to check if a given number is Fibonacci number?\n",
    "12. Python Program for n\\’th multiple of a number in Fibonacci Series\n",
    "13. Program to print ASCII Value of a character\n",
    "14. Python Program for Sum of squares of first n natural numbers\n",
    "Python Program for cube sum of first n natural numbers\n"
   ]
  },
  {
   "cell_type": "markdown",
   "metadata": {},
   "source": [
    "#  Python program to add two numbers"
   ]
  },
  {
   "cell_type": "code",
   "execution_count": 3,
   "metadata": {},
   "outputs": [
    {
     "name": "stdout",
     "output_type": "stream",
     "text": [
      "adding without third variable\n",
      "11\n",
      "using the third variable\n",
      "11\n"
     ]
    }
   ],
   "source": [
    "a =4\n",
    "b =7\n",
    "print(\"adding without third variable\")\n",
    "print(a+b)\n",
    "print(\"using the third variable\")\n",
    "c= a+b\n",
    "print(c)"
   ]
  },
  {
   "cell_type": "markdown",
   "metadata": {},
   "source": [
    "\n",
    "wap to taking the input a, b from the user  and assign the value in variable c\n",
    "\n"
   ]
  },
  {
   "cell_type": "code",
   "execution_count": 4,
   "metadata": {},
   "outputs": [
    {
     "ename": "ValueError",
     "evalue": "invalid literal for int() with base 10: ''",
     "output_type": "error",
     "traceback": [
      "\u001b[1;31m---------------------------------------------------------------------------\u001b[0m",
      "\u001b[1;31mValueError\u001b[0m                                Traceback (most recent call last)",
      "\u001b[1;32md:\\python_journey\\365pythonchallenge\\day1.ipynb Cell 6\u001b[0m in \u001b[0;36m<cell line: 1>\u001b[1;34m()\u001b[0m\n\u001b[1;32m----> <a href='vscode-notebook-cell:/d%3A/python_journey/365pythonchallenge/day1.ipynb#ch0000005?line=0'>1</a>\u001b[0m a\u001b[39m=\u001b[39m \u001b[39mint\u001b[39;49m(\u001b[39minput\u001b[39;49m(\u001b[39m\"\u001b[39;49m\u001b[39menter the input for a: \u001b[39;49m\u001b[39m\"\u001b[39;49m))\n\u001b[0;32m      <a href='vscode-notebook-cell:/d%3A/python_journey/365pythonchallenge/day1.ipynb#ch0000005?line=1'>2</a>\u001b[0m b\u001b[39m=\u001b[39m \u001b[39mint\u001b[39m(\u001b[39minput\u001b[39m(\u001b[39m\"\u001b[39m\u001b[39menter the input for b: \u001b[39m\u001b[39m\"\u001b[39m))\n\u001b[0;32m      <a href='vscode-notebook-cell:/d%3A/python_journey/365pythonchallenge/day1.ipynb#ch0000005?line=3'>4</a>\u001b[0m c\u001b[39m=\u001b[39ma\u001b[39m+\u001b[39mb\n",
      "\u001b[1;31mValueError\u001b[0m: invalid literal for int() with base 10: ''"
     ]
    }
   ],
   "source": [
    "a= int(input(\"enter the input for a: \"))\n",
    "b= int(input(\"enter the input for b: \"))\n",
    "\n",
    "c=a+b\n",
    "print(\"after adding the value a and b =\",c)"
   ]
  },
  {
   "cell_type": "markdown",
   "metadata": {},
   "source": [
    "# WAP Maximum of two numbers in Python"
   ]
  },
  {
   "cell_type": "code",
   "execution_count": null,
   "metadata": {},
   "outputs": [
    {
     "name": "stdout",
     "output_type": "stream",
     "text": [
      "b is greater\n"
     ]
    }
   ],
   "source": [
    "a=2\n",
    "b =3\n",
    "if a>b:\n",
    "    print(\"a is greater\")\n",
    "else:\n",
    "    print(\"b is greater\")"
   ]
  },
  {
   "cell_type": "markdown",
   "metadata": {},
   "source": [
    "# take two input and compare the two number abd check which number is greater"
   ]
  },
  {
   "cell_type": "code",
   "execution_count": null,
   "metadata": {},
   "outputs": [
    {
     "name": "stdout",
     "output_type": "stream",
     "text": [
      "b is greater\n"
     ]
    }
   ],
   "source": [
    "a = int(input(\"enter value for a: \"))\n",
    "b = int(input(\"enter value for b: \"))\n",
    "\n",
    "if a>b:\n",
    "    print(\"a is greater\")\n",
    "else:\n",
    "    print(\"b is greater\")"
   ]
  },
  {
   "cell_type": "markdown",
   "metadata": {},
   "source": [
    "# Python Program for factorial of a number\n"
   ]
  },
  {
   "cell_type": "code",
   "execution_count": null,
   "metadata": {},
   "outputs": [
    {
     "name": "stdout",
     "output_type": "stream",
     "text": [
      "factorial of  6 is 720\n"
     ]
    }
   ],
   "source": [
    "# pyhton program to find factorial\n",
    "def fact(n):\n",
    "    return 1 if (n==1 or n==0) else n * fact(n-1)\n",
    "\n",
    "\n",
    "num =6\n",
    "print(\"factorial of \", num ,\"is\",fact(num))"
   ]
  },
  {
   "cell_type": "code",
   "execution_count": null,
   "metadata": {},
   "outputs": [
    {
     "name": "stdout",
     "output_type": "stream",
     "text": [
      "the factorial of  5 = 120\n"
     ]
    }
   ],
   "source": [
    "# user use factorial of number\n",
    "\n",
    "def fact(n):\n",
    "    if n<0:\n",
    "        return 0\n",
    "    elif n == 0 or n ==1:\n",
    "        return 1\n",
    "    else:\n",
    "        fact = 1\n",
    "        while (n > 1):\n",
    "            fact = fact*n\n",
    "            n=n-1\n",
    "        return fact\n",
    "    \n",
    "#drive code\n",
    "num =5\n",
    "\n",
    "print(\"the factorial of \", num, \"=\",fact(num\n",
    "                                         ))\n",
    "        "
   ]
  },
  {
   "cell_type": "code",
   "execution_count": null,
   "metadata": {},
   "outputs": [
    {
     "name": "stdout",
     "output_type": "stream",
     "text": [
      "the factorial of  8 = 40320\n"
     ]
    }
   ],
   "source": [
    "def fact(n):\n",
    "    if n<0:\n",
    "        return 0\n",
    "    elif n == 0 or n ==1:\n",
    "        return 1\n",
    "    else:\n",
    "        fact = 1\n",
    "        while (n > 1):\n",
    "            fact = fact*n\n",
    "            n=n-1\n",
    "        return fact\n",
    "    \n",
    "#drive code\n",
    "num =int(input(\"enter the value for n: \"))\n",
    "\n",
    "print(\"the factorial of \", num, \"=\",fact(num))\n"
   ]
  },
  {
   "cell_type": "code",
   "execution_count": null,
   "metadata": {},
   "outputs": [
    {
     "name": "stdout",
     "output_type": "stream",
     "text": [
      "5040\n"
     ]
    }
   ],
   "source": [
    "# By using the inbuilt function.\n",
    "\n",
    "import math \n",
    "def fact(n):\n",
    "    return (math.factorial(n))\n",
    "\n",
    "num =7\n",
    "print(fact(num))"
   ]
  },
  {
   "cell_type": "markdown",
   "metadata": {},
   "source": [
    "\n",
    "## write a  Python Program for simple interest\n",
    "~~~\n",
    "\n",
    "Simple interest formula is given by:\n",
    "Simple Interest = (P x T x R)/100\n",
    "Where,\n",
    "P is the principle amount\n",
    "T is the time and\n",
    "R is the rate\n",
    "~~~"
   ]
  },
  {
   "cell_type": "code",
   "execution_count": null,
   "metadata": {},
   "outputs": [
    {
     "name": "stdout",
     "output_type": "stream",
     "text": [
      "Principal:  10000\n",
      "Rate : 8\n",
      "time:  4\n",
      "Simple Intesrest=  3200.0\n"
     ]
    }
   ],
   "source": [
    "p = int(input(\"enter the value for principal:\"))\n",
    "r= int(input(\"enter the time period:\"))\n",
    "t = int(input(\"enter the rate of interest: \"))\n",
    "\n",
    "si = (p*r*t)/100\n",
    "print(\"Principal: \", p)\n",
    "print(\"Rate :\",r)\n",
    "print(\"time: \",t)\n",
    "print(\"Simple Intesrest= \",si)"
   ]
  },
  {
   "cell_type": "code",
   "execution_count": null,
   "metadata": {},
   "outputs": [
    {
     "name": "stdout",
     "output_type": "stream",
     "text": [
      "The principal : 9000\n",
      "The rate : 8\n",
      "The time : 4\n",
      "the simple iterest: 2880.0\n"
     ]
    }
   ],
   "source": [
    "def si(p,r,t):\n",
    "    print('The principal :',p)\n",
    "    print('The rate :',r)\n",
    "    print('The time :',t)\n",
    "    sinterest = (p*r*t)/100\n",
    "    print(\"the simple iterest:\", sinterest)\n",
    "    return sinterest\n",
    "\n",
    "p = 9000\n",
    "r= 8\n",
    "t =4\n",
    "\n",
    "a=si\n",
    "(p,r,t)"
   ]
  },
  {
   "cell_type": "markdown",
   "metadata": {},
   "source": [
    "# write a Python Program for compound interest\n",
    "~~~\n",
    "\n",
    "Formula to calculate compound interest annually is given by: \n",
    "A = P(1 + R/100) t \n",
    "Compound Interest = A – P \n",
    "Where, \n",
    "A is amount \n",
    "P is principle amount \n",
    "R is the rate and \n",
    "T is the time span\n",
    "\n",
    "\n",
    "~~~"
   ]
  },
  {
   "cell_type": "code",
   "execution_count": null,
   "metadata": {},
   "outputs": [
    {
     "name": "stdout",
     "output_type": "stream",
     "text": [
      "Amount: 1627.4177072746775\n",
      "principal:  1000\n",
      "time:  5\n",
      "rate:  10.23\n",
      " Compound interest:  627.4177072746775\n"
     ]
    }
   ],
   "source": [
    "def c(p,r,t):\n",
    "    amt = p * (pow((1+r/100),t))\n",
    "    ci = amt - p\n",
    "    \n",
    "    \n",
    "    print(\"Amount:\",amt)\n",
    "    print(\"principal: \",p)\n",
    "    print(\"time: \",t)\n",
    "    print(\"rate: \",r)\n",
    "    print(\" Compound interest: \",ci)\n",
    "    \n",
    "c(1000,10.23,5)\n",
    "                     "
   ]
  },
  {
   "cell_type": "markdown",
   "metadata": {},
   "source": [
    "# write a Python Program to check Armstrong Number\n",
    "~~~\n",
    "\n",
    "Given a number x, determine whether the given number is Armstrong number or not. A positive integer of n digits is called an Armstrong number of order n (order is number of digits) if.\n",
    "\n",
    "abcd... = pow(a,n) + pow(b,n) + pow(c,n) + pow(d,n) + .... \n",
    "Example:\n",
    "\n",
    "Input : 153\n",
    "Output : Yes\n",
    "153 is an Armstrong number.\n",
    "1*1*1 + 5*5*5 + 3*3*3 = 153\n",
    "\n",
    "Input : 120\n",
    "Output : No\n",
    "120 is not a Armstrong number.\n",
    "~~~"
   ]
  },
  {
   "cell_type": "code",
   "execution_count": null,
   "metadata": {},
   "outputs": [
    {
     "name": "stdout",
     "output_type": "stream",
     "text": [
      "407 is a Armstrong number\n"
     ]
    }
   ],
   "source": [
    "# take input from the user \n",
    "num = int(input(\"enter a nuumber: \"))\n",
    "# initialize sum\n",
    "sum = 0 \n",
    "# find the sum of of the cube of each digit\n",
    "temp = num\n",
    "\n",
    "while temp >0:\n",
    "    digit = temp %10\n",
    "    sum = sum + digit ** 3\n",
    "    temp //=10\n",
    "    \n",
    "# display the result \n",
    "\n",
    "if num == sum:\n",
    "    print(num, \"is a Armstrong number\")\n",
    "else:\n",
    "    print(num,\"is not a Armstrong Number\") "
   ]
  },
  {
   "cell_type": "markdown",
   "metadata": {},
   "source": [
    "# Python Program for Program to find area of a circle\n",
    "\n",
    "Area of a circle can simply be evaluated using following formula.\n",
    "\n",
    "Area = pi * r2\n",
    "where r is radius of circle "
   ]
  },
  {
   "cell_type": "code",
   "execution_count": null,
   "metadata": {},
   "outputs": [],
   "source": []
  },
  {
   "cell_type": "markdown",
   "metadata": {},
   "source": [
    "def area(r):\n",
    "    pi =3.14\n",
    "    a=pi*(r*r)\n",
    "    print(\"Area of rectangle: \",a)\n",
    "    \n",
    "    \n",
    "    \n",
    "radius = int(input(\"enter radius \"))\n",
    "area(radius)\n"
   ]
  },
  {
   "cell_type": "markdown",
   "metadata": {},
   "source": [
    "# Program to make a simple calculator\n"
   ]
  },
  {
   "cell_type": "code",
   "execution_count": 11,
   "metadata": {},
   "outputs": [
    {
     "name": "stdout",
     "output_type": "stream",
     "text": [
      "Select Operation :\n",
      "1. Add\n",
      "2. sub\n",
      "3. mul\n",
      "4. Division\n",
      "34.0 - 6.0 = 28.0\n",
      "invalid input\n",
      "invalid input\n",
      "invalid input\n",
      "invalid input\n",
      "5.0 / 5.0 = 1.0\n"
     ]
    }
   ],
   "source": [
    "# This function adds two number \n",
    "def add(x,y):\n",
    "    return x + y\n",
    "#this fumction subtracts two number\n",
    "\n",
    "def sub(x,y):\n",
    "    return x - y \n",
    "\n",
    "def mul(x,y):\n",
    "    return x * y \n",
    "\n",
    "def div(x,y):\n",
    "    return x/y \n",
    "\n",
    "\n",
    "\n",
    "print(\"Select Operation :\")\n",
    "print(\"1. Add\")\n",
    "print(\"2. sub\")\n",
    "print(\"3. mul\")\n",
    "print(\"4. Division\")\n",
    "\n",
    "\n",
    "while True:\n",
    "    # take the input from the user\n",
    "\n",
    "    choice  = input(\"enter choice (1/2/3/4): \")\n",
    "\n",
    "    # if choice is one of the 4 options\n",
    "\n",
    "    if choice in ('1','2','3','4'):\n",
    "        num1 = float(input(\"enter the number first: \"))\n",
    "        num2 = float(input(\"enter the number second: \"))\n",
    "\n",
    "        if choice == '1':\n",
    "            print(num1, \"+\" ,num2 , \"=\", add(num1,num2))\n",
    "\n",
    "        elif choice == '2':\n",
    "            print(num1, \"-\" ,num2 , \"=\", sub(num1,num2))\n",
    "        elif choice == '3':\n",
    "            print(num1, \"*\", num2 , \"=\", mul(num1,num2))\n",
    "\n",
    "        elif choice == '4':\n",
    "            print(num1, \"/\", num2 , \"=\",div(num1,num2))\n",
    "        next_cal= input(\"lets do next calculation ?(yes/no):\")\n",
    "\n",
    "        if next_cal == \"no\":\n",
    "            break\n",
    "\n",
    "    else:\n",
    "        print(\"invalid input\")\n",
    "\n"
   ]
  },
  {
   "cell_type": "code",
   "execution_count": null,
   "metadata": {},
   "outputs": [],
   "source": []
  },
  {
   "cell_type": "code",
   "execution_count": 14,
   "metadata": {},
   "outputs": [
    {
     "name": "stdout",
     "output_type": "stream",
     "text": [
      "Before swapping\n",
      "x= 34\n",
      "y= 54\n",
      "Value of x:  54\n",
      "Value of y:  34\n"
     ]
    }
   ],
   "source": [
    "# Python program to swap two variable\n",
    "x = input(\"Enter the value of x\")\n",
    "\n",
    "y = input(\"enter the value of y \")\n",
    "print(\"Before swapping\")\n",
    "print(\"x=\",x)\n",
    "print(\"y=\",y)\n",
    "# Swapping of two number\n",
    "temp = x\n",
    "x = y \n",
    "y = temp\n",
    "\n",
    "print(\"After swapping\")\n",
    "print(\"Value of x: \", x)\n",
    "print(\"Value of y: \", y)\n",
    "\n"
   ]
  },
  {
   "cell_type": "code",
   "execution_count": 17,
   "metadata": {},
   "outputs": [
    {
     "name": "stdout",
     "output_type": "stream",
     "text": [
      "Before swapping\n",
      "x= 34\n",
      "y= 87\n",
      "After Swapping of number\n",
      "x= 87\n",
      "y= 34\n"
     ]
    }
   ],
   "source": [
    "# swapping of number without using temporary numbers\n",
    "\n",
    "\n",
    "x = input(\"Enter the value of x\")\n",
    "\n",
    "y = input(\"enter the value of y \")\n",
    "print(\"Before swapping\")\n",
    "print(\"x=\",x)\n",
    "print(\"y=\",y)\n",
    "# After Swapping of two number\n",
    "\n",
    "x , y=y, x\n",
    "print(\"After Swapping of number\")\n",
    "print(\"x=\", x)\n",
    "print(\"y=\", y)"
   ]
  },
  {
   "cell_type": "code",
   "execution_count": 20,
   "metadata": {},
   "outputs": [
    {
     "name": "stdout",
     "output_type": "stream",
     "text": [
      "Before swapping\n",
      "x= 23\n",
      "y= 75\n",
      "After Swapping of number\n",
      "x= 75\n",
      "y= 23\n"
     ]
    }
   ],
   "source": [
    "# By addig and subtracttion\n",
    "\n",
    "# swapping of number without using temporary numbers\n",
    "\n",
    "\n",
    "x = int(input(\"Enter the value of x\"))\n",
    "\n",
    "y = int(input(\"enter the value of y \"))\n",
    "print(\"Before swapping\")\n",
    "print(\"x=\",x)\n",
    "print(\"y=\",y)\n",
    "# After Swapping of two number\n",
    "x = x + y\n",
    "y = x - y \n",
    "x = x- y\n",
    "print(\"After Swapping of number\")\n",
    "print(\"x=\", x)\n",
    "print(\"y=\", y)\n",
    "\n"
   ]
  },
  {
   "cell_type": "code",
   "execution_count": 21,
   "metadata": {},
   "outputs": [
    {
     "name": "stdout",
     "output_type": "stream",
     "text": [
      "Before swapping\n",
      "x= 35\n",
      "y= 86\n",
      "After Swapping of number\n",
      "x= 86.0\n",
      "y= 35.0\n"
     ]
    }
   ],
   "source": [
    "# By multiply  and Division\n",
    "\n",
    "# swapping of number without using temporary numbers\n",
    "\n",
    "\n",
    "x = int(input(\"Enter the value of x\"))\n",
    "\n",
    "y = int(input(\"enter the value of y \"))\n",
    "print(\"Before swapping\")\n",
    "print(\"x=\",x)\n",
    "print(\"y=\",y)\n",
    "# After Swapping of two number\n",
    "x = x * y\n",
    "y = x / y \n",
    "x = x / y\n",
    "print(\"After Swapping of number\")\n",
    "print(\"x=\", x)\n",
    "print(\"y=\", y)"
   ]
  },
  {
   "cell_type": "code",
   "execution_count": null,
   "metadata": {},
   "outputs": [],
   "source": [
    "# By addig and subtracttion\n",
    "\n",
    "# swapping of number without using temporary numbers\n",
    "\n",
    "\n",
    "x = int(input(\"Enter the value of x\"))\n",
    "\n",
    "y = int(input(\"enter the value of y \"))\n",
    "print(\"Before swapping\")\n",
    "print(\"x=\",x)\n",
    "print(\"y=\",y)\n",
    "# After Swapping of two number\n",
    "x = x ^ y\n",
    "y = x ^ y \n",
    "x = x ^ y\n",
    "print(\"After Swapping of number\")\n",
    "print(\"x=\", x)\n",
    "print(\"y=\", y)"
   ]
  },
  {
   "cell_type": "code",
   "execution_count": 26,
   "metadata": {},
   "outputs": [
    {
     "name": "stdout",
     "output_type": "stream",
     "text": [
      "34.0 degree celsius is equal to 93.2 degree fahrenheit\n",
      "56.0 degree fahrenheitis equal to 13.3 degree celsius  \n"
     ]
    }
   ],
   "source": [
    "# this is program to convert \n",
    "\n",
    "def feh(x):\n",
    "    f = (x * 1.8) + 32\n",
    "    \n",
    "    print(\"%0.1f degree celsius is equal to %0.1f degree fahrenheit\" %(x ,f))\n",
    "\n",
    "\n",
    "feh(34)\n",
    "\n",
    "\n",
    "def cel(x):\n",
    "    c = (x-32)*5/9\n",
    "    print(\"%0.1f degree fahrenheitis equal to %0.1f degree celsius  \" %(x ,c))\n",
    "\n",
    "cel(56)\n",
    "\n"
   ]
  },
  {
   "cell_type": "markdown",
   "metadata": {},
   "source": [
    "# program to check the number is positive or  negative"
   ]
  },
  {
   "cell_type": "code",
   "execution_count": null,
   "metadata": {},
   "outputs": [],
   "source": [
    "num = float(input(\"Enter a number: \"))\n",
    "if num > 0 :\n",
    "    print(num,\"is Positive Number\")\n",
    "elif num == 0 :\n",
    "    print(num, \"is Zero\")\n",
    "else:\n",
    "    print(num, \"is negative number\")\n",
    "\n",
    "    "
   ]
  }
 ],
 "metadata": {
  "kernelspec": {
   "display_name": "Python 3.10.5 64-bit",
   "language": "python",
   "name": "python3"
  },
  "language_info": {
   "codemirror_mode": {
    "name": "ipython",
    "version": 3
   },
   "file_extension": ".py",
   "mimetype": "text/x-python",
   "name": "python",
   "nbconvert_exporter": "python",
   "pygments_lexer": "ipython3",
   "version": "3.10.5"
  },
  "orig_nbformat": 4,
  "vscode": {
   "interpreter": {
    "hash": "e588b21c915ce5cbf096a3711238051717c4744d5ae766f81ffc02159c1f97a9"
   }
  }
 },
 "nbformat": 4,
 "nbformat_minor": 2
}

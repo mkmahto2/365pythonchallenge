{
 "cells": [
  {
   "cell_type": "markdown",
   "metadata": {},
   "source": [
    "# Python Programming Examples\n"
   ]
  },
  {
   "cell_type": "markdown",
   "metadata": {},
   "source": [
    "1. Python program to add two numbers\n",
    "2. Maximum of two numbers in Python\n",
    "3. Python Program for factorial of a number\n",
    "4. Python Program for simple interest\n",
    "5. Python Program for compound interest\n",
    "6. Python Program to check Armstrong Number\n",
    "7. Python Program for Program to find area of a circle\n",
    "8. Python program to print all Prime numbers in an Interval\n",
    "9. Python program to check whether a number is Prime or not\n",
    "10. Python Program for n-th Fibonacci number\n",
    "11. Python Program for How to check if a given number is Fibonacci number?\n",
    "12. Python Program for n\\’th multiple of a number in Fibonacci Series\n",
    "13. Program to print ASCII Value of a character\n",
    "14. Python Program for Sum of squares of first n natural numbers\n",
    "Python Program for cube sum of first n natural numbers\n"
   ]
  },
  {
   "cell_type": "markdown",
   "metadata": {},
   "source": [
    "#  Python program to add two numbers"
   ]
  },
  {
   "cell_type": "code",
   "execution_count": 2,
   "metadata": {},
   "outputs": [
    {
     "name": "stdout",
     "output_type": "stream",
     "text": [
      "adding without third variable\n",
      "11\n",
      "using the third variable\n",
      "11\n"
     ]
    }
   ],
   "source": [
    "a =4\n",
    "b =7\n",
    "print(\"adding without third variable\")\n",
    "print(a+b)\n",
    "print(\"using the third variable\")\n",
    "c= a+b\n",
    "print(c)"
   ]
  },
  {
   "cell_type": "markdown",
   "metadata": {},
   "source": [
    "\n",
    "wap to taking the input a, b from the user  and assign the value in variable c\n",
    "\n"
   ]
  },
  {
   "cell_type": "code",
   "execution_count": 5,
   "metadata": {},
   "outputs": [
    {
     "name": "stdout",
     "output_type": "stream",
     "text": [
      "after adding the value a and b = 64\n"
     ]
    }
   ],
   "source": [
    "a= int(input(\"enter the input for a: \"))\n",
    "b= int(input(\"enter the input for b: \"))\n",
    "\n",
    "c=a+b\n",
    "print(\"after adding the value a and b =\",c)"
   ]
  },
  {
   "cell_type": "markdown",
   "metadata": {},
   "source": [
    "# WAP Maximum of two numbers in Python"
   ]
  },
  {
   "cell_type": "code",
   "execution_count": 6,
   "metadata": {},
   "outputs": [
    {
     "name": "stdout",
     "output_type": "stream",
     "text": [
      "b is greater\n"
     ]
    }
   ],
   "source": [
    "a=2\n",
    "b =3\n",
    "if a>b:\n",
    "    print(\"a is greater\")\n",
    "else:\n",
    "    print(\"b is greater\")"
   ]
  },
  {
   "cell_type": "markdown",
   "metadata": {},
   "source": [
    "# take two input and compare the two number abd check which number is greater"
   ]
  },
  {
   "cell_type": "code",
   "execution_count": 7,
   "metadata": {},
   "outputs": [
    {
     "name": "stdout",
     "output_type": "stream",
     "text": [
      "b is greater\n"
     ]
    }
   ],
   "source": [
    "a = int(input(\"enter value for a: \"))\n",
    "b = int(input(\"enter value for b: \"))\n",
    "\n",
    "if a>b:\n",
    "    print(\"a is greater\")\n",
    "else:\n",
    "    print(\"b is greater\")"
   ]
  },
  {
   "cell_type": "markdown",
   "metadata": {},
   "source": [
    "# Python Program for factorial of a number\n"
   ]
  },
  {
   "cell_type": "code",
   "execution_count": 11,
   "metadata": {},
   "outputs": [
    {
     "name": "stdout",
     "output_type": "stream",
     "text": [
      "factorial of  6 is 720\n"
     ]
    }
   ],
   "source": [
    "# pyhton program to find factorial\n",
    "def fact(n):\n",
    "    return 1 if (n==1 or n==0) else n * fact(n-1)\n",
    "\n",
    "\n",
    "num =6\n",
    "print(\"factorial of \", num ,\"is\",fact(num))"
   ]
  },
  {
   "cell_type": "code",
   "execution_count": 13,
   "metadata": {},
   "outputs": [
    {
     "name": "stdout",
     "output_type": "stream",
     "text": [
      "the factorial of  5 = 120\n"
     ]
    }
   ],
   "source": [
    "# user use factorial of number\n",
    "\n",
    "def fact(n):\n",
    "    if n<0:\n",
    "        return 0\n",
    "    elif n == 0 or n ==1:\n",
    "        return 1\n",
    "    else:\n",
    "        fact = 1\n",
    "        while (n > 1):\n",
    "            fact = fact*n\n",
    "            n=n-1\n",
    "        return fact\n",
    "    \n",
    "#drive code\n",
    "num =5\n",
    "\n",
    "print(\"the factorial of \", num, \"=\",fact(num\n",
    "                                         ))\n",
    "        "
   ]
  },
  {
   "cell_type": "code",
   "execution_count": 15,
   "metadata": {},
   "outputs": [
    {
     "name": "stdout",
     "output_type": "stream",
     "text": [
      "the factorial of  8 = 40320\n"
     ]
    }
   ],
   "source": [
    "def fact(n):\n",
    "    if n<0:\n",
    "        return 0\n",
    "    elif n == 0 or n ==1:\n",
    "        return 1\n",
    "    else:\n",
    "        fact = 1\n",
    "        while (n > 1):\n",
    "            fact = fact*n\n",
    "            n=n-1\n",
    "        return fact\n",
    "    \n",
    "#drive code\n",
    "num =int(input(\"enter the value for n: \"))\n",
    "\n",
    "print(\"the factorial of \", num, \"=\",fact(num))\n"
   ]
  },
  {
   "cell_type": "code",
   "execution_count": 17,
   "metadata": {},
   "outputs": [
    {
     "name": "stdout",
     "output_type": "stream",
     "text": [
      "5040\n"
     ]
    }
   ],
   "source": [
    "# By using the inbuilt function.\n",
    "\n",
    "import math \n",
    "def fact(n):\n",
    "    return (math.factorial(n))\n",
    "\n",
    "num =7\n",
    "print(fact(num))"
   ]
  },
  {
   "cell_type": "markdown",
   "metadata": {},
   "source": [
    "\n",
    "## write a  Python Program for simple interest\n",
    "~~~\n",
    "\n",
    "Simple interest formula is given by:\n",
    "Simple Interest = (P x T x R)/100\n",
    "Where,\n",
    "P is the principle amount\n",
    "T is the time and\n",
    "R is the rate\n",
    "~~~"
   ]
  },
  {
   "cell_type": "code",
   "execution_count": 21,
   "metadata": {},
   "outputs": [
    {
     "name": "stdout",
     "output_type": "stream",
     "text": [
      "Principal:  10000\n",
      "Rate : 8\n",
      "time:  4\n",
      "Simple Intesrest=  3200.0\n"
     ]
    }
   ],
   "source": [
    "p = int(input(\"enter the value for principal:\"))\n",
    "r= int(input(\"enter the time period:\"))\n",
    "t = int(input(\"enter the rate of interest: \"))\n",
    "\n",
    "si = (p*r*t)/100\n",
    "print(\"Principal: \", p)\n",
    "print(\"Rate :\",r)\n",
    "print(\"time: \",t)\n",
    "print(\"Simple Intesrest= \",si)"
   ]
  },
  {
   "cell_type": "code",
   "execution_count": 25,
   "metadata": {},
   "outputs": [
    {
     "name": "stdout",
     "output_type": "stream",
     "text": [
      "The principal : 9000\n",
      "The rate : 8\n",
      "The time : 4\n",
      "the simple iterest: 2880.0\n"
     ]
    }
   ],
   "source": [
    "def si(p,r,t):\n",
    "    print('The principal :',p)\n",
    "    print('The rate :',r)\n",
    "    print('The time :',t)\n",
    "    sinterest = (p*r*t)/100\n",
    "    print(\"the simple iterest:\", sinterest)\n",
    "    return sinterest\n",
    "\n",
    "p = 9000\n",
    "r= 8\n",
    "t =4\n",
    "\n",
    "a=si\n",
    "(p,r,t)"
   ]
  },
  {
   "cell_type": "markdown",
   "metadata": {},
   "source": [
    "# write a Python Program for compound interest\n",
    "~~~\n",
    "\n",
    "Formula to calculate compound interest annually is given by: \n",
    "A = P(1 + R/100) t \n",
    "Compound Interest = A – P \n",
    "Where, \n",
    "A is amount \n",
    "P is principle amount \n",
    "R is the rate and \n",
    "T is the time span\n",
    "\n",
    "\n",
    "~~~"
   ]
  },
  {
   "cell_type": "code",
   "execution_count": 37,
   "metadata": {},
   "outputs": [
    {
     "name": "stdout",
     "output_type": "stream",
     "text": [
      "Amount: 1627.4177072746775\n",
      "principal:  1000\n",
      "time:  5\n",
      "rate:  10.23\n",
      " Compound interest:  627.4177072746775\n"
     ]
    }
   ],
   "source": [
    "def c(p,r,t):\n",
    "    amt = p * (pow((1+r/100),t))\n",
    "    ci = amt - p\n",
    "    \n",
    "    \n",
    "    print(\"Amount:\",amt)\n",
    "    print(\"principal: \",p)\n",
    "    print(\"time: \",t)\n",
    "    print(\"rate: \",r)\n",
    "    print(\" Compound interest: \",ci)\n",
    "    \n",
    "c(1000,10.23,5)\n",
    "                     "
   ]
  },
  {
   "cell_type": "markdown",
   "metadata": {},
   "source": [
    "# write a Python Program to check Armstrong Number\n",
    "~~~\n",
    "\n",
    "Given a number x, determine whether the given number is Armstrong number or not. A positive integer of n digits is called an Armstrong number of order n (order is number of digits) if.\n",
    "\n",
    "abcd... = pow(a,n) + pow(b,n) + pow(c,n) + pow(d,n) + .... \n",
    "Example:\n",
    "\n",
    "Input : 153\n",
    "Output : Yes\n",
    "153 is an Armstrong number.\n",
    "1*1*1 + 5*5*5 + 3*3*3 = 153\n",
    "\n",
    "Input : 120\n",
    "Output : No\n",
    "120 is not a Armstrong number.\n",
    "~~~"
   ]
  },
  {
   "cell_type": "code",
   "execution_count": 39,
   "metadata": {},
   "outputs": [
    {
     "name": "stdout",
     "output_type": "stream",
     "text": [
      "407 is a Armstrong number\n"
     ]
    }
   ],
   "source": [
    "# take input from the user \n",
    "num = int(input(\"enter a nuumber: \"))\n",
    "# initialize sum\n",
    "sum = 0 \n",
    "# find the sum of of the cube of each digit\n",
    "temp = num\n",
    "\n",
    "while temp >0:\n",
    "    digit = temp %10\n",
    "    sum = sum + digit ** 3\n",
    "    temp //=10\n",
    "    \n",
    "# display the result \n",
    "\n",
    "if num == sum:\n",
    "    print(num, \"is a Armstrong number\")\n",
    "else:\n",
    "    print(num,\"is not a Armstrong Number\") "
   ]
  },
  {
   "cell_type": "markdown",
   "metadata": {},
   "source": [
    "# Python Program for Program to find area of a circle\n",
    "\n",
    "Area of a circle can simply be evaluated using following formula.\n",
    "\n",
    "Area = pi * r2\n",
    "where r is radius of circle "
   ]
  },
  {
   "cell_type": "code",
   "execution_count": 41,
   "metadata": {},
   "outputs": [
    {
     "name": "stdout",
     "output_type": "stream",
     "text": [
      "Area of rectangle:  6358.5\n"
     ]
    }
   ],
   "source": [
    "def area(r):\n",
    "    pi =3.14\n",
    "    a=pi*(r*r)\n",
    "    print(\"Area of rectangle: \",a)\n",
    "    \n",
    "    \n",
    "    \n",
    "radius = int(input(\"enter radius \"))\n",
    "area(radius)\n"
   ]
  }
 ],
 "metadata": {
  "interpreter": {
   "hash": "4a788789709fa3a630e4af66d4ca2fe00b28a0d25afbba65d53e089aeabe57c1"
  },
  "kernelspec": {
   "display_name": "Python 3.9.7 64-bit",
   "language": "python",
   "name": "python3"
  },
  "language_info": {
   "codemirror_mode": {
    "name": "ipython",
    "version": 3
   },
   "file_extension": ".py",
   "mimetype": "text/x-python",
   "name": "python",
   "nbconvert_exporter": "python",
   "pygments_lexer": "ipython3",
   "version": "3.9.7"
  },
  "orig_nbformat": 4
 },
 "nbformat": 4,
 "nbformat_minor": 2
}

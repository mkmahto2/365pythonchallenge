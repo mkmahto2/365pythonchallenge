{
 "cells": [
  {
   "cell_type": "code",
   "execution_count": null,
   "metadata": {},
   "outputs": [],
   "source": []
  },
  {
   "cell_type": "markdown",
   "metadata": {},
   "source": [
    "# program to generate Random number"
   ]
  },
  {
   "cell_type": "code",
   "execution_count": 8,
   "metadata": {},
   "outputs": [
    {
     "name": "stdout",
     "output_type": "stream",
     "text": [
      "5\n"
     ]
    }
   ],
   "source": [
    "import random\n",
    "print(random.randint(0,900))"
   ]
  },
  {
   "cell_type": "code",
   "execution_count": 9,
   "metadata": {},
   "outputs": [
    {
     "data": {
      "text/plain": [
       "744"
      ]
     },
     "execution_count": 9,
     "metadata": {},
     "output_type": "execute_result"
    }
   ],
   "source": [
    "random.randint(2,900)"
   ]
  },
  {
   "cell_type": "code",
   "execution_count": null,
   "metadata": {},
   "outputs": [],
   "source": []
  },
  {
   "cell_type": "markdown",
   "metadata": {},
   "source": [
    "# program to convert kilometre to miles"
   ]
  },
  {
   "cell_type": "code",
   "execution_count": 14,
   "metadata": {},
   "outputs": [
    {
     "name": "stdout",
     "output_type": "stream",
     "text": [
      "1.00 Kilometre in miles  0.62 \n"
     ]
    }
   ],
   "source": [
    "kilo = float(input(\"enter value in kilometre: \"))\n",
    "\n",
    "confactor = 0.621371\n",
    "\n",
    "mile = kilo * confactor\n",
    "\n",
    "print(\"%0.2f Kilometre in miles  %0.2f \"%(kilo,mile))\n",
    "\n",
    "#kilometer = miles / confactor TO be using switch case \n",
    "\n"
   ]
  },
  {
   "cell_type": "markdown",
   "metadata": {},
   "source": [
    "# program to find the prime within the intervals\n",
    "\n"
   ]
  },
  {
   "cell_type": "code",
   "execution_count": 16,
   "metadata": {},
   "outputs": [
    {
     "name": "stdout",
     "output_type": "stream",
     "text": [
      " Prime number between 1 add 50\n",
      "2\n",
      "3\n",
      "5\n",
      "7\n",
      "11\n",
      "13\n",
      "17\n",
      "19\n",
      "23\n",
      "29\n",
      "31\n",
      "37\n",
      "41\n",
      "43\n",
      "47\n"
     ]
    }
   ],
   "source": [
    "lower = 1\n",
    "upper = 50\n",
    "\n",
    "print(\" Prime number between\", lower, \"add\", upper)\n",
    "\n",
    "for num in range(lower,upper +1):\n",
    "    # for all prime number greater than 1\n",
    "    if num > 1:\n",
    "        for i in range(2,num):\n",
    "            if (num % i == 0):\n",
    "                break\n",
    "        else:\n",
    "            print(num)\n"
   ]
  },
  {
   "cell_type": "markdown",
   "metadata": {},
   "source": [
    "# program to calculate multiplication table of any number"
   ]
  },
  {
   "cell_type": "code",
   "execution_count": 18,
   "metadata": {},
   "outputs": [
    {
     "name": "stdout",
     "output_type": "stream",
     "text": [
      "30 X 1 = 30\n",
      "30 X 2 = 60\n",
      "30 X 3 = 90\n",
      "30 X 4 = 120\n",
      "30 X 5 = 150\n",
      "30 X 6 = 180\n",
      "30 X 7 = 210\n",
      "30 X 8 = 240\n",
      "30 X 9 = 270\n",
      "30 X 10 = 300\n"
     ]
    }
   ],
   "source": [
    "num = int(input(\"enter the value :\"))\n",
    "\n",
    "for i in range (1,11):\n",
    "    print(num ,\"X\",i,\"=\",num*i)"
   ]
  },
  {
   "cell_type": "markdown",
   "metadata": {},
   "source": [
    "# program to check whether number is Fibonacci series or not\n"
   ]
  },
  {
   "cell_type": "code",
   "execution_count": 22,
   "metadata": {},
   "outputs": [
    {
     "name": "stdout",
     "output_type": "stream",
     "text": [
      "Fibonacci series:\n",
      "0\n",
      "1\n",
      "1\n",
      "2\n",
      "3\n",
      "5\n",
      "8\n",
      "13\n",
      "21\n",
      "34\n"
     ]
    }
   ],
   "source": [
    "nterm = int(input(\"how many terms: \"))\n",
    "\n",
    "# first two term\n",
    "\n",
    "n1 =0 \n",
    "n2 = 1\n",
    "count = 0\n",
    "\n",
    "# check whether the number is valid or not\n",
    "\n",
    "if nterm < 0:\n",
    "    print(\"please enter a positive number\")\n",
    "elif nterm == 1:\n",
    "    n1 = 1\n",
    "\n",
    "else:\n",
    "    print(\"Fibonacci series:\")\n",
    "    while count < nterm:\n",
    "        print(n1)\n",
    "        nth = n1 + n2\n",
    "        n1 = n2\n",
    "        n2 = nth\n",
    "        count +=1\n",
    "        "
   ]
  }
 ],
 "metadata": {
  "kernelspec": {
   "display_name": "Python 3.10.5 64-bit",
   "language": "python",
   "name": "python3"
  },
  "language_info": {
   "codemirror_mode": {
    "name": "ipython",
    "version": 3
   },
   "file_extension": ".py",
   "mimetype": "text/x-python",
   "name": "python",
   "nbconvert_exporter": "python",
   "pygments_lexer": "ipython3",
   "version": "3.10.5"
  },
  "orig_nbformat": 4,
  "vscode": {
   "interpreter": {
    "hash": "e588b21c915ce5cbf096a3711238051717c4744d5ae766f81ffc02159c1f97a9"
   }
  }
 },
 "nbformat": 4,
 "nbformat_minor": 2
}
